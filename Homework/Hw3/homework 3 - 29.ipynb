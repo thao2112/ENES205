{
 "cells": [
  {
   "cell_type": "code",
   "execution_count": 1,
   "metadata": {
    "collapsed": true,
    "deletable": true,
    "editable": true
   },
   "outputs": [],
   "source": [
    "#python is loaded initially in all code cells .. see the Python 3 in the box to the upper right?\n",
    "import numpy\n",
    "from numpy import * #the star means add all numpy functions, if there is an overlap/conflict then numpy wins\n",
    "#this is a code cell .. there should be a number in the brackets after excuting this cell\n",
    "set_printoptions(precision=5,linewidth=120,suppress=True) # percision determines number of numpy decimal places displayed\n",
    "import sympy # not importing all sympy functions, have to put sympy in front of them to use them\n",
    "from sympy import sqrt, symbols, Integral, N, init_printing, pprint, linsolve, S, pi ,cos, sin, I, Abs, arg, diff, integrate, atan2\n",
    "init_printing() # this enables sympy pretty printing (sympy.pprint commands)"
   ]
  },
  {
   "cell_type": "code",
   "execution_count": 2,
   "metadata": {
    "collapsed": false,
    "deletable": true,
    "editable": true
   },
   "outputs": [],
   "source": [
    "#entering knowns into sympy\n"
   ]
  },
  {
   "cell_type": "code",
   "execution_count": 5,
   "metadata": {
    "collapsed": false,
    "deletable": true,
    "editable": true
   },
   "outputs": [
    {
     "data": {
      "image/png": "[encoded data removed]",
      "text/latex": [
       "$$\\left \\{ I_{1} : \\frac{W \\left(i C_{2} V_{S2} + V_{S1} \\left(i C_{2} - i C_{3} + R_{2} W\\right)\\right)}{C_{2} C_{3} + C_{2} L_{1} W^{2} - i C_{2} R_{1} W + i C_{2} R_{2} W - C_{3} L_{1} W^{2} + i C_{3} R_{1} W - i L_{1} R_{2} W^{3} - R_{1} R_{2} W^{2}}, \\quad I_{2} : \\frac{W \\left(V_{S1} \\left(i C_{3} - R_{2} W\\right) - V_{S2} W \\left(i L_{1} W + R_{1}\\right)\\right)}{C_{2} C_{3} + C_{2} L_{1} W^{2} - i C_{2} R_{1} W + i C_{2} R_{2} W - C_{3} L_{1} W^{2} + i C_{3} R_{1} W - i L_{1} R_{2} W^{3} - R_{1} R_{2} W^{2}}, \\quad I_{3} : \\frac{W \\left(- i C_{2} V_{S1} + V_{S2} \\left(- i C_{2} + i L_{1} W^{2} + R_{1} W\\right)\\right)}{C_{2} C_{3} + C_{2} L_{1} W^{2} - i C_{2} R_{1} W + i C_{2} R_{2} W - C_{3} L_{1} W^{2} + i C_{3} R_{1} W - i L_{1} R_{2} W^{3} - R_{1} R_{2} W^{2}}, \\quad V_{C2} : \\frac{C_{2} \\left(V_{S1} \\left(C_{3} + i R_{2} W\\right) - V_{S2} W \\left(L_{1} W - i R_{1}\\right)\\right)}{C_{2} C_{3} + C_{2} L_{1} W^{2} - i C_{2} R_{1} W + i C_{2} R_{2} W - C_{3} L_{1} W^{2} + i C_{3} R_{1} W - i L_{1} R_{2} W^{3} - R_{1} R_{2} W^{2}}, \\quad V_{C3} : - \\frac{C_{3} \\left(C_{2} V_{S1} + V_{S2} \\left(C_{2} - L_{1} W^{2} + i R_{1} W\\right)\\right)}{C_{2} C_{3} + C_{2} L_{1} W^{2} - i C_{2} R_{1} W + i C_{2} R_{2} W - C_{3} L_{1} W^{2} + i C_{3} R_{1} W - i L_{1} R_{2} W^{3} - R_{1} R_{2} W^{2}}, \\quad V_{L1} : \\frac{L_{1} W^{2} \\left(- C_{2} V_{S2} + V_{S1} \\left(- C_{2} + C_{3} + i R_{2} W\\right)\\right)}{C_{2} C_{3} + C_{2} L_{1} W^{2} - i C_{2} R_{1} W + i C_{2} R_{2} W - C_{3} L_{1} W^{2} + i C_{3} R_{1} W - i L_{1} R_{2} W^{3} - R_{1} R_{2} W^{2}}, \\quad V_{R1} : \\frac{R_{1} W \\left(i C_{2} V_{S2} + V_{S1} \\left(i C_{2} - i C_{3} + R_{2} W\\right)\\right)}{C_{2} C_{3} + C_{2} L_{1} W^{2} - i C_{2} R_{1} W + i C_{2} R_{2} W - C_{3} L_{1} W^{2} + i C_{3} R_{1} W - i L_{1} R_{2} W^{3} - R_{1} R_{2} W^{2}}, \\quad V_{R3} : \\frac{R_{2} W \\left(- i C_{2} V_{S1} + V_{S2} \\left(- i C_{2} + i L_{1} W^{2} + R_{1} W\\right)\\right)}{C_{2} C_{3} + C_{2} L_{1} W^{2} - i C_{2} R_{1} W + i C_{2} R_{2} W - C_{3} L_{1} W^{2} + i C_{3} R_{1} W - i L_{1} R_{2} W^{3} - R_{1} R_{2} W^{2}}\\right \\}$$"
      ],
      "text/plain": [
       "⎧                                                                             \n",
       "⎪                           W⋅(ⅈ⋅C₂⋅V_S2 + V_S1⋅(ⅈ⋅C₂ - ⅈ⋅C₃ + R₂⋅W))         \n",
       "⎨I₁: ─────────────────────────────────────────────────────────────────────────\n",
       "⎪                   2                                  2                      \n",
       "⎩    C₂⋅C₃ + C₂⋅L₁⋅W  - ⅈ⋅C₂⋅R₁⋅W + ⅈ⋅C₂⋅R₂⋅W - C₃⋅L₁⋅W  + ⅈ⋅C₃⋅R₁⋅W - ⅈ⋅L₁⋅R₂\n",
       "\n",
       "                                                                              \n",
       "                                         W⋅(V_S1⋅(ⅈ⋅C₃ - R₂⋅W) - V_S2⋅W⋅(ⅈ⋅L₁⋅\n",
       "──────────────, I₂: ──────────────────────────────────────────────────────────\n",
       "  3          2                     2                                  2       \n",
       "⋅W  - R₁⋅R₂⋅W       C₂⋅C₃ + C₂⋅L₁⋅W  - ⅈ⋅C₂⋅R₁⋅W + ⅈ⋅C₂⋅R₂⋅W - C₃⋅L₁⋅W  + ⅈ⋅C₃\n",
       "\n",
       "                                                          ⎛                  ⎛\n",
       "W + R₁))                                                W⋅⎝-ⅈ⋅C₂⋅V_S1 + V_S2⋅⎝\n",
       "─────────────────────────────, I₃: ───────────────────────────────────────────\n",
       "                 3          2                     2                           \n",
       "⋅R₁⋅W - ⅈ⋅L₁⋅R₂⋅W  - R₁⋅R₂⋅W       C₂⋅C₃ + C₂⋅L₁⋅W  - ⅈ⋅C₂⋅R₁⋅W + ⅈ⋅C₂⋅R₂⋅W - \n",
       "\n",
       "              2       ⎞⎞                                                      \n",
       "-ⅈ⋅C₂ + ⅈ⋅L₁⋅W  + R₁⋅W⎠⎠                                                 C₂⋅(V\n",
       "────────────────────────────────────────────, V_C2: ──────────────────────────\n",
       "       2                        3          2                       2          \n",
       "C₃⋅L₁⋅W  + ⅈ⋅C₃⋅R₁⋅W - ⅈ⋅L₁⋅R₂⋅W  - R₁⋅R₂⋅W         C₂⋅C₃ + C₂⋅L₁⋅W  - ⅈ⋅C₂⋅R₁\n",
       "\n",
       "                                                                              \n",
       "_S1⋅(C₃ + ⅈ⋅R₂⋅W) - V_S2⋅W⋅(L₁⋅W - ⅈ⋅R₁))                                     \n",
       "─────────────────────────────────────────────────────────────, V_C3: ─────────\n",
       "                        2                        3          2                 \n",
       "⋅W + ⅈ⋅C₂⋅R₂⋅W - C₃⋅L₁⋅W  + ⅈ⋅C₃⋅R₁⋅W - ⅈ⋅L₁⋅R₂⋅W  - R₁⋅R₂⋅W         C₂⋅C₃ + C\n",
       "\n",
       "                 ⎛               ⎛         2         ⎞⎞                       \n",
       "             -C₃⋅⎝C₂⋅V_S1 + V_S2⋅⎝C₂ - L₁⋅W  + ⅈ⋅R₁⋅W⎠⎠                       \n",
       "──────────────────────────────────────────────────────────────────────────────\n",
       "      2                                  2                        3          2\n",
       "₂⋅L₁⋅W  - ⅈ⋅C₂⋅R₁⋅W + ⅈ⋅C₂⋅R₂⋅W - C₃⋅L₁⋅W  + ⅈ⋅C₃⋅R₁⋅W - ⅈ⋅L₁⋅R₂⋅W  - R₁⋅R₂⋅W \n",
       "\n",
       "                                  2                                           \n",
       "                              L₁⋅W ⋅(-C₂⋅V_S2 + V_S1⋅(-C₂ + C₃ + ⅈ⋅R₂⋅W))     \n",
       ", V_L1: ──────────────────────────────────────────────────────────────────────\n",
       "                       2                                  2                   \n",
       "        C₂⋅C₃ + C₂⋅L₁⋅W  - ⅈ⋅C₂⋅R₁⋅W + ⅈ⋅C₂⋅R₂⋅W - C₃⋅L₁⋅W  + ⅈ⋅C₃⋅R₁⋅W - ⅈ⋅L₁\n",
       "\n",
       "                                                                              \n",
       "                                               R₁⋅W⋅(ⅈ⋅C₂⋅V_S2 + V_S1⋅(ⅈ⋅C₂ - \n",
       "─────────────────, V_R1: ─────────────────────────────────────────────────────\n",
       "     3          2                       2                                  2  \n",
       "⋅R₂⋅W  - R₁⋅R₂⋅W         C₂⋅C₃ + C₂⋅L₁⋅W  - ⅈ⋅C₂⋅R₁⋅W + ⅈ⋅C₂⋅R₂⋅W - C₃⋅L₁⋅W  +\n",
       "\n",
       "                                                                  ⎛           \n",
       "ⅈ⋅C₃ + R₂⋅W))                                                R₂⋅W⋅⎝-ⅈ⋅C₂⋅V_S1 \n",
       "──────────────────────────────────, V_R3: ────────────────────────────────────\n",
       "                      3          2                       2                    \n",
       " ⅈ⋅C₃⋅R₁⋅W - ⅈ⋅L₁⋅R₂⋅W  - R₁⋅R₂⋅W         C₂⋅C₃ + C₂⋅L₁⋅W  - ⅈ⋅C₂⋅R₁⋅W + ⅈ⋅C₂⋅\n",
       "\n",
       "       ⎛              2       ⎞⎞                   ⎫\n",
       "+ V_S2⋅⎝-ⅈ⋅C₂ + ⅈ⋅L₁⋅W  + R₁⋅W⎠⎠                   ⎪\n",
       "───────────────────────────────────────────────────⎬\n",
       "              2                        3          2⎪\n",
       "R₂⋅W - C₃⋅L₁⋅W  + ⅈ⋅C₃⋅R₁⋅W - ⅈ⋅L₁⋅R₂⋅W  - R₁⋅R₂⋅W ⎭"
      ]
     },
     "execution_count": 5,
     "metadata": {},
     "output_type": "execute_result"
    }
   ],
   "source": [
    "#unknowns have to be given symbols\n",
    "I_1,I_2,I_3,V_R1,V_R3,V_L1,V_C2,V_C3,W,R1,R3,L1,C2,C3,V_S1,V_S2 = symbols('I_1 I_2 I_3 V_R1 V_R3 V_L1 V_C2 V_C3 W R1 R2 L1 C2 C3 V_S1 V_S2')\n",
    "sympy.solve([V_R1-I_1*R1,V_R3-I_3*R3,V_L1-I_1*W*I*L1,V_C2+I_2*I/W*C2,V_C3+I_3*I/W*C3,V_R1+V_L1-V_C2+V_S1,V_C2+V_S2+V_R3+V_C3,I_1+I_2+I_3],(I_1,I_2,I_3,V_R1,V_R3,V_L1,V_C2,V_C3))"
   ]
  },
  {
   "cell_type": "code",
   "execution_count": null,
   "metadata": {
    "collapsed": true,
    "deletable": true,
    "editable": true
   },
   "outputs": [],
   "source": []
  }
 ],
 "metadata": {
  "kernelspec": {
   "display_name": "Python 2",
   "language": "python",
   "name": "python2"
  },
  "language_info": {
   "codemirror_mode": {
    "name": "ipython",
    "version": 2
   },
   "file_extension": ".py",
   "mimetype": "text/x-python",
   "name": "python",
   "nbconvert_exporter": "python",
   "pygments_lexer": "ipython2",
   "version": "2.7.13"
  }
 },
 "nbformat": 4,
 "nbformat_minor": 2
}
