{
 "cells": [
  {
   "cell_type": "code",
   "execution_count": 12,
   "metadata": {
    "collapsed": true,
    "deletable": true,
    "editable": true
   },
   "outputs": [],
   "source": [
    "#python is loaded initially in all code cells .. see the Python 3 in the box to the upper right?\n",
    "import numpy\n",
    "from numpy import * #the star means add all numpy functions, if there is an overlap/conflict then numpy wins\n",
    "#this is a code cell .. there should be a number in the brackets after excuting this cell\n",
    "set_printoptions(precision=5,linewidth=120,suppress=True) # percision determines number of numpy decimal places displayed\n",
    "import sympy # not importing all sympy functions, have to put sympy in front of them to use them\n",
    "from sympy import sqrt, symbols, Integral, N, init_printing, pprint, linsolve, S, pi ,cos, sin, I, Abs, arg, diff, integrate, atan2\n",
    "init_printing() # this enables sympy pretty printing (sympy.pprint commands)"
   ]
  },
  {
   "cell_type": "code",
   "execution_count": 13,
   "metadata": {
    "collapsed": false,
    "deletable": true,
    "editable": true
   },
   "outputs": [],
   "source": [
    "#entering knowns into sympy\n",
    "X_C1 = -I/2\n",
    "X_C2 = -I/2\n",
    "R_1 = 1\n",
    "R_2 = 1\n",
    "R_3 = 1\n",
    "X_L1 = 2*I\n",
    "X_L2 = 2*I\n",
    "X_L3 = 2*I\n",
    "V_s1 = -I\n",
    "V_s2 = 1"
   ]
  },
  {
   "cell_type": "code",
   "execution_count": 15,
   "metadata": {
    "collapsed": false,
    "deletable": true,
    "editable": true
   },
   "outputs": [
    {
     "data": {
      "image/png": "[encoded data removed]",
      "text/latex": [
       "$$\\left \\{ I_{1} : \\frac{6}{13} + \\frac{4 i}{13}, \\quad I_{2} : - \\frac{6}{125} + \\frac{92 i}{125}, \\quad I_{3} : \\frac{3}{25} + \\frac{4 i}{25}, \\quad I_{4} : - \\frac{21}{125} + \\frac{72 i}{125}, \\quad I_{5} : \\frac{672}{1625} + \\frac{1696 i}{1625}, \\quad I_{6} : - \\frac{6}{125} + \\frac{92 i}{125}, \\quad V_{L1} : - \\frac{8}{13} + \\frac{12 i}{13}, \\quad V_{L2} : - \\frac{8}{25} + \\frac{6 i}{25}, \\quad V_{L3} : - \\frac{144}{125} - \\frac{42 i}{125}, \\quad V_{c1} : \\frac{2}{13} - \\frac{3 i}{13}, \\quad V_{c2} : \\frac{46}{125} + \\frac{3 i}{125}, \\quad V_{r1} : \\frac{6}{13} + \\frac{4 i}{13}, \\quad V_{r2} : - \\frac{6}{125} + \\frac{92 i}{125}, \\quad V_{r3} : - \\frac{21}{125} + \\frac{72 i}{125}\\right \\}$$"
      ],
      "text/plain": [
       "⎧    6    4⋅ⅈ         6    92⋅ⅈ      3    4⋅ⅈ         21   72⋅ⅈ      672    16\n",
       "⎨I₁: ── + ───, I₂: - ─── + ────, I₃: ── + ───, I₄: - ─── + ────, I₅: ──── + ──\n",
       "⎩    13    13        125   125       25    25        125   125       1625    1\n",
       "\n",
       "96⋅ⅈ         6    92⋅ⅈ          8    12⋅ⅈ          8    6⋅ⅈ          144   42⋅\n",
       "────, I₆: - ─── + ────, V_L1: - ── + ────, V_L2: - ── + ───, V_L3: - ─── - ───\n",
       "625         125   125           13    13           25    25          125   125\n",
       "\n",
       "ⅈ        2    3⋅ⅈ         46   3⋅ⅈ       6    4⋅ⅈ          6    92⋅ⅈ          \n",
       "─, V_c1: ── - ───, V_c2: ─── + ───, Vᵣ₁: ── + ───, Vᵣ₂: - ─── + ────, Vᵣ₃: - ─\n",
       "         13    13        125   125       13    13         125   125          1\n",
       "\n",
       "21   72⋅ⅈ⎫\n",
       "── + ────⎬\n",
       "25   125 ⎭"
      ]
     },
     "execution_count": 15,
     "metadata": {},
     "output_type": "execute_result"
    }
   ],
   "source": [
    "#unknowns have to be given symbols\n",
    "I_1,I_2,I_3,I_4,I_5,I_6,V_c1,V_c2,V_r1,V_r2,V_r3,V_L1,V_L2,V_L3 = symbols('I_1 I_2 I_3 I_4 I_5 I_6 V_c1 V_c2 V_r1 V_r2 V_r3 V_L1 V_L2 V_L3')\n",
    "sympy.solve([V_c1-I_1*X_C1,V_c2-I_2*X_C2,V_r1-I_1*R_1,V_r2-I_6*R_2,V_r3-I_4*R_3,V_L1-I_1*X_L1,V_L2-I_3*X_L2,V_L3-I_4*X_L3,V_c1+V_s1+V_r1+V_L1,V_s1+V_r2+V_L2+V_c2,V_L3-V_L2+V_s2+V_r3,I_5-I_1-I_2,I_2-I_3-I_4,I_3+I_4-I_6],(I_1,I_2,I_3,I_4,I_5,I_6,V_c1,V_c2,V_r1,V_r2,V_r3,V_L1,V_L2,V_L3))"
   ]
  },
  {
   "cell_type": "code",
   "execution_count": null,
   "metadata": {
    "collapsed": true
   },
   "outputs": [],
   "source": []
  }
 ],
 "metadata": {
  "kernelspec": {
   "display_name": "Python 2",
   "language": "python",
   "name": "python2"
  },
  "language_info": {
   "codemirror_mode": {
    "name": "ipython",
    "version": 2
   },
   "file_extension": ".py",
   "mimetype": "text/x-python",
   "name": "python",
   "nbconvert_exporter": "python",
   "pygments_lexer": "ipython2",
   "version": "2.7.13"
  }
 },
 "nbformat": 4,
 "nbformat_minor": 2
}
