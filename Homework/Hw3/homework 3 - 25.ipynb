{
 "cells": [
  {
   "cell_type": "code",
   "execution_count": 2,
   "metadata": {
    "collapsed": true,
    "deletable": true,
    "editable": true
   },
   "outputs": [],
   "source": [
    "#python is loaded initially in all code cells .. see the Python 3 in the box to the upper right?\n",
    "import numpy\n",
    "from numpy import * #the star means add all numpy functions, if there is an overlap/conflict then numpy wins\n",
    "#this is a code cell .. there should be a number in the brackets after excuting this cell\n",
    "set_printoptions(precision=5,linewidth=120,suppress=True) # percision determines number of numpy decimal places displayed\n",
    "import sympy # not importing all sympy functions, have to put sympy in front of them to use them\n",
    "from sympy import sqrt, symbols, Integral, N, init_printing, pprint, linsolve, S, pi ,cos, sin, I, Abs, arg, diff, integrate, atan2\n",
    "init_printing() # this enables sympy pretty printing (sympy.pprint commands)"
   ]
  },
  {
   "cell_type": "code",
   "execution_count": 4,
   "metadata": {
    "collapsed": false,
    "deletable": true,
    "editable": true
   },
   "outputs": [
    {
     "data": {
      "image/png": "[encoded data removed]",
      "text/latex": [
       "$$- \\sqrt{3} - i$$"
      ],
      "text/plain": [
       "-√3 - ⅈ"
      ]
     },
     "execution_count": 4,
     "metadata": {},
     "output_type": "execute_result"
    }
   ],
   "source": [
    "#entering knowns into sympy\n",
    "X_C = -I/2\n",
    "R_1 = 1\n",
    "R_2 = 2\n",
    "X_L = I\n",
    "V_s = 5\n",
    "I_s = -sqrt(3)-I\n",
    "I_s"
   ]
  },
  {
   "cell_type": "code",
   "execution_count": 7,
   "metadata": {
    "collapsed": false,
    "deletable": true,
    "editable": true
   },
   "outputs": [
    {
     "data": {
      "image/png": "[encoded data removed]",
      "text/latex": [
       "$$\\left \\{ I_{1} : -4 + \\frac{\\sqrt{3}}{4} + \\frac{\\sqrt{3} i}{4} + \\frac{3 i}{2}, \\quad I_{2} : - \\frac{5 \\sqrt{3}}{4} + 4 - \\frac{5 i}{2} - \\frac{\\sqrt{3} i}{4}, \\quad I_{3} : \\frac{\\sqrt{3}}{8} + \\frac{1}{2} + \\frac{\\sqrt{3} i}{8} + \\frac{3 i}{4}, \\quad I_{4} : - \\frac{3 \\sqrt{3}}{8} + \\frac{7}{2} - \\frac{9 i}{4} - \\frac{3 i}{8} \\sqrt{3}, \\quad V_{C} : - \\frac{5}{4} - \\frac{\\sqrt{3}}{8} - 2 i + \\frac{5 i}{8} \\sqrt{3}, \\quad V_{L} : \\frac{3 \\sqrt{3}}{8} + \\frac{9}{4} - \\frac{3 i}{8} \\sqrt{3} + \\frac{7 i}{2}, \\quad V_{R1} : -4 + \\frac{\\sqrt{3}}{4} + \\frac{\\sqrt{3} i}{4} + \\frac{3 i}{2}, \\quad V_{R2} : \\frac{\\sqrt{3}}{4} + 1 + \\frac{\\sqrt{3} i}{4} + \\frac{3 i}{2}\\right \\}$$"
      ],
      "text/plain": [
       "⎧         √3   √3⋅ⅈ   3⋅ⅈ        5⋅√3       5⋅ⅈ   √3⋅ⅈ      √3   1   √3⋅ⅈ   3⋅\n",
       "⎨I₁: -4 + ── + ──── + ───, I₂: - ──── + 4 - ─── - ────, I₃: ── + ─ + ──── + ──\n",
       "⎩         4     4      2          4          2     4        8    2    8      4\n",
       "\n",
       "ⅈ        3⋅√3   7   9⋅ⅈ   3⋅√3⋅ⅈ         5   √3         5⋅√3⋅ⅈ       3⋅√3   9 \n",
       "─, I₄: - ──── + ─ - ─── - ──────, V_C: - ─ - ── - 2⋅ⅈ + ──────, V_L: ──── + ─ \n",
       "          8     2    4      8            4   8            8           8     4 \n",
       "\n",
       "  3⋅√3⋅ⅈ   7⋅ⅈ             √3   √3⋅ⅈ   3⋅ⅈ        √3       √3⋅ⅈ   3⋅ⅈ⎫\n",
       "- ────── + ───, V_R1: -4 + ── + ──── + ───, V_R2: ── + 1 + ──── + ───⎬\n",
       "    8       2              4     4      2         4         4      2 ⎭"
      ]
     },
     "execution_count": 7,
     "metadata": {},
     "output_type": "execute_result"
    }
   ],
   "source": [
    "#unknowns have to be given symbols\n",
    "I_1,I_2,I_3,I_4,V_C,V_R1,V_R2,V_L = symbols('I_1 I_2 I_3 I_4 V_C V_R1 V_R2 V_L')\n",
    "sympy.solve([V_C-I_2*X_C,V_R1-I_1*R_1,V_R2-I_3*R_2,V_L-I_4*X_L,V_R1+V_s-V_R2,V_R2-V_L-V_C,I_s-I_1-I_2,I_1+I_3+I_4],(I_1,I_2,I_3,I_4,V_C,V_R1,V_R2,V_L,V_X))"
   ]
  },
  {
   "cell_type": "code",
   "execution_count": null,
   "metadata": {
    "collapsed": true,
    "deletable": true,
    "editable": true
   },
   "outputs": [],
   "source": []
  }
 ],
 "metadata": {
  "kernelspec": {
   "display_name": "Python 2",
   "language": "python",
   "name": "python2"
  },
  "language_info": {
   "codemirror_mode": {
    "name": "ipython",
    "version": 2
   },
   "file_extension": ".py",
   "mimetype": "text/x-python",
   "name": "python",
   "nbconvert_exporter": "python",
   "pygments_lexer": "ipython2",
   "version": "2.7.13"
  }
 },
 "nbformat": 4,
 "nbformat_minor": 2
}
