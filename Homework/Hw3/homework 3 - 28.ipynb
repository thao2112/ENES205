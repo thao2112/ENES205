{
 "cells": [
  {
   "cell_type": "code",
   "execution_count": 1,
   "metadata": {
    "collapsed": true,
    "deletable": true,
    "editable": true
   },
   "outputs": [],
   "source": [
    "#python is loaded initially in all code cells .. see the Python 3 in the box to the upper right?\n",
    "import numpy\n",
    "from numpy import * #the star means add all numpy functions, if there is an overlap/conflict then numpy wins\n",
    "#this is a code cell .. there should be a number in the brackets after excuting this cell\n",
    "set_printoptions(precision=5,linewidth=120,suppress=True) # percision determines number of numpy decimal places displayed\n",
    "import sympy # not importing all sympy functions, have to put sympy in front of them to use them\n",
    "from sympy import sqrt, symbols, Integral, N, init_printing, pprint, linsolve, S, pi ,cos, sin, I, Abs, arg, diff, integrate, atan2\n",
    "init_printing() # this enables sympy pretty printing (sympy.pprint commands)"
   ]
  },
  {
   "cell_type": "code",
   "execution_count": 2,
   "metadata": {
    "collapsed": false,
    "deletable": true,
    "editable": true
   },
   "outputs": [],
   "source": [
    "#entering knowns into sympy\n",
    "R_1 = 2\n",
    "R_2 = 2\n",
    "X_L = I\n",
    "I_s1 = 2\n",
    "I_s2 = -2*I"
   ]
  },
  {
   "cell_type": "code",
   "execution_count": 3,
   "metadata": {
    "collapsed": false,
    "deletable": true,
    "editable": true
   },
   "outputs": [
    {
     "data": {
      "image/png": "[encoded data removed]",
      "text/latex": [
       "$$\\left \\{ I_{1} : \\frac{22}{17} + \\frac{20 i}{17}, \\quad I_{2} : \\frac{12}{17} - \\frac{20 i}{17}, \\quad I_{3} : \\frac{12}{17} + \\frac{14 i}{17}, \\quad V_{L} : \\frac{20}{17} + \\frac{12 i}{17}, \\quad V_{R1} : \\frac{44}{17} + \\frac{40 i}{17}, \\quad V_{R2} : \\frac{24}{17} + \\frac{28 i}{17}\\right \\}$$"
      ],
      "text/plain": [
       "⎧    22   20⋅ⅈ      12   20⋅ⅈ      12   14⋅ⅈ       20   12⋅ⅈ        44   40⋅ⅈ \n",
       "⎨I₁: ── + ────, I₂: ── - ────, I₃: ── + ────, V_L: ── + ────, V_R1: ── + ────,\n",
       "⎩    17    17       17    17       17    17        17    17         17    17  \n",
       "\n",
       "       24   28⋅ⅈ⎫\n",
       " V_R2: ── + ────⎬\n",
       "       17    17 ⎭"
      ]
     },
     "execution_count": 3,
     "metadata": {},
     "output_type": "execute_result"
    }
   ],
   "source": [
    "#unknowns have to be given symbols\n",
    "I_1,I_2,I_3,V_R1,V_R2,V_L = symbols('I_1 I_2 I_3 V_R1 V_R2 V_L')\n",
    "sympy.solve([V_R1-I_1*R_1,V_R2-I_3*R_2,V_L-I_2*X_L,V_R1-V_L-V_R2,I_s1-I_1-I_2,I_2-I_3-I_s2],(I_1,I_2,I_3,V_R1,V_R2,V_L))"
   ]
  },
  {
   "cell_type": "code",
   "execution_count": null,
   "metadata": {
    "collapsed": true,
    "deletable": true,
    "editable": true
   },
   "outputs": [],
   "source": []
  }
 ],
 "metadata": {
  "kernelspec": {
   "display_name": "Python 2",
   "language": "python",
   "name": "python2"
  },
  "language_info": {
   "codemirror_mode": {
    "name": "ipython",
    "version": 2
   },
   "file_extension": ".py",
   "mimetype": "text/x-python",
   "name": "python",
   "nbconvert_exporter": "python",
   "pygments_lexer": "ipython2",
   "version": "2.7.13"
  }
 },
 "nbformat": 4,
 "nbformat_minor": 2
}
