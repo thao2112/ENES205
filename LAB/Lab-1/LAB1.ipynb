{
 "cells": [
  {
   "cell_type": "markdown",
   "metadata": {
    "deletable": true,
    "editable": true
   },
   "source": [
    "# LAB 1\n",
    "# Simple circuit 1\n",
    "![circuit1](parallel.png)  \n",
    "#### Three sources of Unknowns:  \n",
    "3 terminal passive devices: $R_1, R_2, R_3$ 3 of them  \n",
    "voltages: $V_s, V_1, V_2, V_3$ 4 of them  \n",
    "currents: $I_s, I_1, I_2, I_3$ 4 of them  \n",
    "  \n",
    "Given on the schematic: $R_1=68, R_2=47, R_3=10, V_s=2$  \n",
    "\n",
    "  \n",
    "#### Three sources of Equations:  \n",
    "passive devices: $V_1-R_1*I_1, V_2-R_2*I_2,V_3-R_3*I_3$ 3 equations  \n",
    "meshes: $V_s-V_1, V_1-V_2, V_2-V_3$ 3 equations  \n",
    "nodes: $I_s-I_1-I_2-I_3, I_1+I_2+I_3$ 2 equations  \n"
   ]
  },
  {
   "cell_type": "code",
   "execution_count": 1,
   "metadata": {
    "collapsed": true,
    "deletable": true,
    "editable": true
   },
   "outputs": [],
   "source": [
    "import numpy\n",
    "from numpy import * \n",
    "set_printoptions(precision=5,linewidth=120,suppress=True) \n",
    "import sympy \n",
    "from sympy import sqrt, symbols, Integral, pi, N, init_printing, pprint, linsolve\n",
    "init_printing() "
   ]
  },
  {
   "cell_type": "code",
   "execution_count": 2,
   "metadata": {
    "collapsed": false,
    "deletable": true,
    "editable": true
   },
   "outputs": [
    {
     "data": {
      "image/png": "[encoded data removed]",
      "text/latex": [
       "$$\\left \\{ I_{1} : \\frac{1}{34}, \\quad I_{2} : \\frac{2}{47}, \\quad I_{3} : \\frac{1}{5}, \\quad Is : \\frac{2173}{7990}, \\quad V_{1} : 2, \\quad V_{2} : 2, \\quad V_{3} : 2\\right \\}$$"
      ],
      "text/plain": [
       "⎧                                 2173                     ⎫\n",
       "⎨I₁: 1/34, I₂: 2/47, I₃: 1/5, Is: ────, V₁: 2, V₂: 2, V₃: 2⎬\n",
       "⎩                                 7990                     ⎭"
      ]
     },
     "execution_count": 2,
     "metadata": {},
     "output_type": "execute_result"
    }
   ],
   "source": [
    "#solving for the currents I1,I2,I3,Is\n",
    "V1, V2, V3, Vs, I1, I2, I3, Is = symbols('V1 V2 V3 Vs I1 I2 I3 Is')\n",
    "R1=68\n",
    "R2=47\n",
    "R3=10\n",
    "Vs=2\n",
    "(sympy.solve([V1-R1*I1, V2-R2*I2,V3-R3*I3,Vs-V1, V1-V2, V2-V3,Is-I1-I2-I3], (V1,V2,V3,I1,I2,I3,Is), implicit=True))"
   ]
  },
  {
   "cell_type": "code",
   "execution_count": 3,
   "metadata": {
    "collapsed": false,
    "deletable": true,
    "editable": true
   },
   "outputs": [
    {
     "data": {
      "image/png": "[encoded data removed]",
      "text/latex": [
       "$$0.029411764705882353$$"
      ],
      "text/plain": [
       "0.029411764705882353"
      ]
     },
     "execution_count": 3,
     "metadata": {},
     "output_type": "execute_result"
    }
   ],
   "source": [
    "1/34"
   ]
  },
  {
   "cell_type": "code",
   "execution_count": 4,
   "metadata": {
    "collapsed": false,
    "deletable": true,
    "editable": true
   },
   "outputs": [
    {
     "data": {
      "image/png": "[encoded data removed]",
      "text/latex": [
       "$$0.0425531914893617$$"
      ],
      "text/plain": [
       "0.0425531914893617"
      ]
     },
     "execution_count": 4,
     "metadata": {},
     "output_type": "execute_result"
    }
   ],
   "source": [
    "2/47"
   ]
  },
  {
   "cell_type": "code",
   "execution_count": 5,
   "metadata": {
    "collapsed": false,
    "deletable": true,
    "editable": true
   },
   "outputs": [
    {
     "data": {
      "image/png": "[encoded data removed]",
      "text/latex": [
       "$$0.2$$"
      ],
      "text/plain": [
       "0.2"
      ]
     },
     "execution_count": 5,
     "metadata": {},
     "output_type": "execute_result"
    }
   ],
   "source": [
    "1/5"
   ]
  },
  {
   "cell_type": "code",
   "execution_count": 6,
   "metadata": {
    "collapsed": false,
    "deletable": true,
    "editable": true
   },
   "outputs": [
    {
     "data": {
      "image/png": "[encoded data removed]",
      "text/latex": [
       "$$0.2719649561952441$$"
      ],
      "text/plain": [
       "0.2719649561952441"
      ]
     },
     "execution_count": 6,
     "metadata": {},
     "output_type": "execute_result"
    }
   ],
   "source": [
    "2173/7990"
   ]
  },
  {
   "cell_type": "markdown",
   "metadata": {
    "deletable": true,
    "editable": true
   },
   "source": [
    "# Simple circuit 2\n",
    "![circuit2](series.png)  \n",
    "#### Three sources of Unknowns:  \n",
    "3 terminal passive devices: $R_4, R_5, R_6$ 3 of them  \n",
    "voltages: $V_s, V_4, V_5, V_6$ 4 of them  \n",
    "currents: $I_s$ 1 of them  \n",
    "  \n",
    "Given on the schematic: $R_4=10000, R_5=20000, R_6=2200, V_s=2$  \n",
    "  \n",
    "#### Three sources of Equations:  \n",
    "passive devices: $V_4-R_4*I_S, V_5-R_5*I_S,V_6-R_6*I_S$ 3 equations  \n",
    "voltage: $V_s-V_4-V_5-V_6$ 1 equations  \n",
    "current:  0 equations  "
   ]
  },
  {
   "cell_type": "code",
   "execution_count": 7,
   "metadata": {
    "collapsed": false,
    "deletable": true,
    "editable": true
   },
   "outputs": [
    {
     "name": "stdout",
     "output_type": "stream",
     "text": [
      "10000 20000 2200 2\n"
     ]
    },
    {
     "data": {
      "image/png": "[encoded data removed]",
      "text/latex": [
       "$$\\left \\{ IS : \\frac{1}{16100}, \\quad V_{4} : \\frac{100}{161}, \\quad V_{5} : \\frac{200}{161}, \\quad V_{6} : \\frac{22}{161}\\right \\}$$"
      ],
      "text/plain": [
       "⎧                 100      200       22⎫\n",
       "⎨IS: 1/16100, V₄: ───, V₅: ───, V₆: ───⎬\n",
       "⎩                 161      161      161⎭"
      ]
     },
     "execution_count": 7,
     "metadata": {},
     "output_type": "execute_result"
    }
   ],
   "source": [
    "#solving for the currents V4, V5, V6, Is\n",
    "V4, V5, V6, Vs, IS = symbols('V4 V5 V6 Vs IS')\n",
    "R4=10000\n",
    "R5=20000\n",
    "R6=2200\n",
    "Vs=2\n",
    "print(R4,R5,R6,Vs)\n",
    "sympy.solve([V4-R4*IS, V5-R5*IS, V6-R6*IS, Vs-V4-V5-V6], (V4,V5,V6,IS))\n"
   ]
  },
  {
   "cell_type": "code",
   "execution_count": 8,
   "metadata": {
    "collapsed": false,
    "deletable": true,
    "editable": true
   },
   "outputs": [
    {
     "data": {
      "image/png": "[encoded data removed]",
      "text/latex": [
       "$$6.211180124223603e-05$$"
      ],
      "text/plain": [
       "6.211180124223603e-05"
      ]
     },
     "execution_count": 8,
     "metadata": {},
     "output_type": "execute_result"
    }
   ],
   "source": [
    "1/16100"
   ]
  },
  {
   "cell_type": "code",
   "execution_count": 9,
   "metadata": {
    "collapsed": false,
    "deletable": true,
    "editable": true
   },
   "outputs": [
    {
     "data": {
      "image/png": "[encoded data removed]",
      "text/latex": [
       "$$0.6211180124223602$$"
      ],
      "text/plain": [
       "0.6211180124223602"
      ]
     },
     "execution_count": 9,
     "metadata": {},
     "output_type": "execute_result"
    }
   ],
   "source": [
    "100/161\n"
   ]
  },
  {
   "cell_type": "code",
   "execution_count": 10,
   "metadata": {
    "collapsed": false,
    "deletable": true,
    "editable": true
   },
   "outputs": [
    {
     "data": {
      "image/png": "[encoded data removed]",
      "text/latex": [
       "$$1.2422360248447204$$"
      ],
      "text/plain": [
       "1.2422360248447204"
      ]
     },
     "execution_count": 10,
     "metadata": {},
     "output_type": "execute_result"
    }
   ],
   "source": [
    "200/161"
   ]
  },
  {
   "cell_type": "code",
   "execution_count": 11,
   "metadata": {
    "collapsed": false,
    "deletable": true,
    "editable": true
   },
   "outputs": [
    {
     "data": {
      "image/png": "[encoded data removed]",
      "text/latex": [
       "$$0.13664596273291926$$"
      ],
      "text/plain": [
       "0.13664596273291926"
      ]
     },
     "execution_count": 11,
     "metadata": {},
     "output_type": "execute_result"
    }
   ],
   "source": [
    "22/161"
   ]
  },
  {
   "cell_type": "code",
   "execution_count": null,
   "metadata": {
    "collapsed": true,
    "deletable": true,
    "editable": true
   },
   "outputs": [],
   "source": []
  }
 ],
 "metadata": {
  "kernelspec": {
   "display_name": "Python 3",
   "language": "python",
   "name": "python3"
  },
  "language_info": {
   "codemirror_mode": {
    "name": "ipython",
    "version": 3
   },
   "file_extension": ".py",
   "mimetype": "text/x-python",
   "name": "python",
   "nbconvert_exporter": "python",
   "pygments_lexer": "ipython3",
   "version": "3.5.2"
  }
 },
 "nbformat": 4,
 "nbformat_minor": 2
}
