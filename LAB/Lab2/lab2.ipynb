{
 "cells": [
  {
   "cell_type": "markdown",
   "metadata": {
    "deletable": true,
    "editable": true
   },
   "source": [
    "# LAB 2\n",
    "# Simple RC circuit\n",
    "![RCcircuit](partsim_RC.png)  \n",
    "#### Three sources of Unknowns:  \n",
    "2 terminal passive devices: $R_1, C_1$ 2 of them  \n",
    "voltages: $V_s, V_1, V_2$ 3 of them  \n",
    "currents: $I_s$ 1 of them  \n",
    "  \n",
    "Given on the schematic: $R_1=10, C_1=47uF, V_s=10$  \n",
    "\n",
    "  \n",
    "#### Three sources of Equations:  \n",
    "passive devices: $V_1-R_1*I_s,V_{2}-\\frac{I_s}{\\omega*C_1*1j}$ 2 equations  \n",
    "voltage: $V_s+V_1+V_2$ 1 equations  \n",
    "current:  0 equations  \n"
   ]
  },
  {
   "cell_type": "code",
   "execution_count": 7,
   "metadata": {
    "collapsed": true,
    "deletable": true,
    "editable": true
   },
   "outputs": [],
   "source": [
    "import numpy\n",
    "from numpy import * \n",
    "set_printoptions(precision=5,linewidth=120,suppress=True) \n",
    "import sympy \n",
    "from sympy import sqrt, symbols, Integral, pi, N, init_printing, pprint, linsolve\n",
    "init_printing() "
   ]
  },
  {
   "cell_type": "code",
   "execution_count": 6,
   "metadata": {
    "collapsed": false,
    "deletable": true,
    "editable": true
   },
   "outputs": [
    {
     "data": {
      "image/png": "[encoded data removed]",
      "text/latex": [
       "$$\\left \\{ Is : - \\frac{470 w}{470 w + 1}, \\quad V_{1} : - \\frac{4700 w}{470 w + 1}, \\quad V_{2} : - \\frac{10}{470 w + 1}\\right \\}$$"
      ],
      "text/plain": [
       "⎧     -470⋅w         -4700⋅w          -10   ⎫\n",
       "⎨Is: ─────────, V₁: ─────────, V₂: ─────────⎬\n",
       "⎩    470⋅w + 1      470⋅w + 1      470⋅w + 1⎭"
      ]
     },
     "execution_count": 6,
     "metadata": {},
     "output_type": "execute_result"
    }
   ],
   "source": [
    "#solving for the currents V1,V2,Vs,Is\n",
    "V1, V2, Is, w = symbols('V1 V2 Is w')\n",
    "R1=10\n",
    "C1=47\n",
    "Vs=10\n",
    "sympy.solve([V1-Is*R1,V2-Is/(w*C1),Vs+V1+V2,],(V1,V2,Is))"
   ]
  }
 ],
 "metadata": {
  "kernelspec": {
   "display_name": "Python 3",
   "language": "python",
   "name": "python3"
  },
  "language_info": {
   "codemirror_mode": {
    "name": "ipython",
    "version": 3
   },
   "file_extension": ".py",
   "mimetype": "text/x-python",
   "name": "python",
   "nbconvert_exporter": "python",
   "pygments_lexer": "ipython3",
   "version": "3.5.2"
  }
 },
 "nbformat": 4,
 "nbformat_minor": 2
}
